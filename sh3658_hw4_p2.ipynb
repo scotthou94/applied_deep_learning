{
  "nbformat": 4,
  "nbformat_minor": 0,
  "metadata": {
    "colab": {
      "name": "sh3658_hw4_p2.ipynb",
      "version": "0.3.2",
      "provenance": [],
      "collapsed_sections": [],
      "include_colab_link": true
    },
    "kernelspec": {
      "name": "python3",
      "display_name": "Python 3"
    },
    "accelerator": "GPU"
  },
  "cells": [
    {
      "cell_type": "markdown",
      "metadata": {
        "id": "view-in-github",
        "colab_type": "text"
      },
      "source": [
        "<a href=\"https://colab.research.google.com/github/scotthou94/applied_deep_learning/blob/master/sh3658_hw4_p2.ipynb\" target=\"_parent\"><img src=\"https://colab.research.google.com/assets/colab-badge.svg\" alt=\"Open In Colab\"/></a>"
      ]
    },
    {
      "metadata": {
        "id": "6ao-JFaulDlA",
        "colab_type": "code",
        "colab": {}
      },
      "cell_type": "code",
      "source": [
        "import tensorflow as tf\n",
        "tf.enable_eager_execution()\n",
        "\n",
        "from tensorflow.keras.preprocessing.text import Tokenizer\n",
        "from tensorflow.keras.preprocessing.sequence import pad_sequences\n",
        "\n",
        "import csv\n",
        "import matplotlib.pyplot as plt\n",
        "import numpy as np\n",
        "import os"
      ],
      "execution_count": 0,
      "outputs": []
    },
    {
      "metadata": {
        "id": "Bmm0DUpnlNAw",
        "colab_type": "code",
        "outputId": "89199907-85b4-439a-f54e-e3df6b894d0a",
        "colab": {
          "base_uri": "https://localhost:8080/",
          "height": 243
        }
      },
      "cell_type": "code",
      "source": [
        "# Download the colors dataset\n",
        "if not os.path.exists('colors.csv'):\n",
        "  !curl -O 'https://raw.githubusercontent.com/random-forests/datasets/master/colors.csv'\n",
        "!head colors.csv"
      ],
      "execution_count": 4,
      "outputs": [
        {
          "output_type": "stream",
          "text": [
            "  % Total    % Received % Xferd  Average Speed   Time    Time     Time  Current\n",
            "                                 Dload  Upload   Total   Spent    Left  Speed\n",
            "100  323k  100  323k    0     0  56059      0  0:00:05  0:00:05 --:--:-- 75288\n",
            "name,red,green,blue\n",
            "parakeet,174,182,87\n",
            "saddle brown,88,52,1\n",
            "cucumber crush,222,237,215\n",
            "pool blue,134,194,201\n",
            "distance,98,110,130\n",
            "light urple,179,111,246\n",
            "east side,172,145,206\n",
            "florida seashells,250,228,199\n",
            "paris,145,167,189\n"
          ],
          "name": "stdout"
        }
      ]
    },
    {
      "metadata": {
        "id": "A_hCjUoElOOo",
        "colab_type": "code",
        "outputId": "54b67b05-4ad7-4a3e-e4b0-5687c71c8e4e",
        "colab": {
          "base_uri": "https://localhost:8080/",
          "height": 52
        }
      },
      "cell_type": "code",
      "source": [
        "# Read the data\n",
        "colors_rgb = []\n",
        "csv_reader = csv.reader(open('colors.csv'), delimiter=',')\n",
        "next(csv_reader) # Remove the header\n",
        "for row in csv_reader:\n",
        "    name, r, g, b = row[0].lower().strip(), float(row[1]) / 255.0, float(row[2]) / 255.0, float(row[3]) / 255.0\n",
        "    colors_rgb.append((name, r, g, b))\n",
        "print(len(colors_rgb), 'colors downloaded')\n",
        "print('For example', colors_rgb[0])"
      ],
      "execution_count": 5,
      "outputs": [
        {
          "output_type": "stream",
          "text": [
            "14157 colors downloaded\n",
            "For example ('parakeet', 0.6823529411764706, 0.7137254901960784, 0.3411764705882353)\n"
          ],
          "name": "stdout"
        }
      ]
    },
    {
      "metadata": {
        "id": "ISanLTTkm2qq",
        "colab_type": "code",
        "colab": {}
      },
      "cell_type": "code",
      "source": [
        "names = [item[0] for item in colors_rgb]"
      ],
      "execution_count": 0,
      "outputs": []
    },
    {
      "metadata": {
        "id": "fBhVraDGf807",
        "colab_type": "code",
        "outputId": "b85bb69a-a22e-4fe2-b91d-4c3f99c2cdea",
        "colab": {
          "base_uri": "https://localhost:8080/",
          "height": 191
        }
      },
      "cell_type": "code",
      "source": [
        "names[:10]"
      ],
      "execution_count": 7,
      "outputs": [
        {
          "output_type": "execute_result",
          "data": {
            "text/plain": [
              "['parakeet',\n",
              " 'saddle brown',\n",
              " 'cucumber crush',\n",
              " 'pool blue',\n",
              " 'distance',\n",
              " 'light urple',\n",
              " 'east side',\n",
              " 'florida seashells',\n",
              " 'paris',\n",
              " 'powder blush']"
            ]
          },
          "metadata": {
            "tags": []
          },
          "execution_count": 7
        }
      ]
    },
    {
      "metadata": {
        "id": "L1sjZ_tYnGNE",
        "colab_type": "code",
        "colab": {}
      },
      "cell_type": "code",
      "source": [
        "maxlen = 25\n",
        "t = Tokenizer(char_level=True)\n",
        "t.fit_on_texts(names)\n",
        "tokenized = t.texts_to_sequences(names)\n",
        "padded_names = pad_sequences(tokenized, maxlen=maxlen)\n",
        "padded_names = padded_names.astype('float32')"
      ],
      "execution_count": 0,
      "outputs": []
    },
    {
      "metadata": {
        "id": "CMIY57qOgBui",
        "colab_type": "code",
        "outputId": "567cf17a-f293-45c3-cc3a-ccbf4f781593",
        "colab": {
          "base_uri": "https://localhost:8080/",
          "height": 35
        }
      },
      "cell_type": "code",
      "source": [
        "padded_names.shape"
      ],
      "execution_count": 9,
      "outputs": [
        {
          "output_type": "execute_result",
          "data": {
            "text/plain": [
              "(14157, 25)"
            ]
          },
          "metadata": {
            "tags": []
          },
          "execution_count": 9
        }
      ]
    },
    {
      "metadata": {
        "id": "JOQIb8CdnGuV",
        "colab_type": "code",
        "colab": {}
      },
      "cell_type": "code",
      "source": [
        "r = [item[1] for item in colors_rgb]\n",
        "g = [item[2] for item in colors_rgb]\n",
        "b = [item[3] for item in colors_rgb]\n",
        "targets = np.column_stack([r, g, b])"
      ],
      "execution_count": 0,
      "outputs": []
    },
    {
      "metadata": {
        "id": "ia4RVf3qgYMm",
        "colab_type": "code",
        "outputId": "636b6644-a495-4fa8-fd79-d6d4dae3b700",
        "colab": {
          "base_uri": "https://localhost:8080/",
          "height": 35
        }
      },
      "cell_type": "code",
      "source": [
        "targets.shape"
      ],
      "execution_count": 11,
      "outputs": [
        {
          "output_type": "execute_result",
          "data": {
            "text/plain": [
              "(14157, 3)"
            ]
          },
          "metadata": {
            "tags": []
          },
          "execution_count": 11
        }
      ]
    },
    {
      "metadata": {
        "id": "rG_R0s_mnI2O",
        "colab_type": "code",
        "outputId": "197e4c35-34c1-47a6-9812-085114e62dbf",
        "colab": {
          "base_uri": "https://localhost:8080/",
          "height": 312
        }
      },
      "cell_type": "code",
      "source": [
        "model = tf.keras.Sequential()\n",
        "model.add(tf.keras.layers.Reshape((1, maxlen), input_shape=(maxlen,)))\n",
        "# Lets stack two layers of gru together\n",
        "model.add(tf.keras.layers.CuDNNGRU(128, return_sequences=True))\n",
        "model.add(tf.keras.layers.CuDNNGRU(128))\n",
        "model.add(tf.keras.layers.Dense(64, activation='relu'))\n",
        "model.add(tf.keras.layers.Dense(3, activation='sigmoid'))\n",
        "model.compile(optimizer=tf.train.AdamOptimizer(learning_rate=5e-3), loss='mse', metrics=['accuracy'])\n",
        "model.summary()"
      ],
      "execution_count": 12,
      "outputs": [
        {
          "output_type": "stream",
          "text": [
            "_________________________________________________________________\n",
            "Layer (type)                 Output Shape              Param #   \n",
            "=================================================================\n",
            "reshape (Reshape)            (None, 1, 25)             0         \n",
            "_________________________________________________________________\n",
            "cu_dnngru (CuDNNGRU)         (None, 1, 128)            59520     \n",
            "_________________________________________________________________\n",
            "cu_dnngru_1 (CuDNNGRU)       (None, 128)               99072     \n",
            "_________________________________________________________________\n",
            "dense (Dense)                (None, 64)                8256      \n",
            "_________________________________________________________________\n",
            "dense_1 (Dense)              (None, 3)                 195       \n",
            "=================================================================\n",
            "Total params: 167,043\n",
            "Trainable params: 167,043\n",
            "Non-trainable params: 0\n",
            "_________________________________________________________________\n"
          ],
          "name": "stdout"
        }
      ]
    },
    {
      "metadata": {
        "id": "sqOfMfWxoGiE",
        "colab_type": "code",
        "outputId": "599cc512-88cb-4031-85eb-219be956ac28",
        "colab": {
          "base_uri": "https://localhost:8080/",
          "height": 211
        }
      },
      "cell_type": "code",
      "source": [
        "# we're going to massively overfit on the training\n",
        "# data... that's fine for this experiment\n",
        "history = model.fit(padded_names, targets, epochs=5, validation_split=0.1)"
      ],
      "execution_count": 13,
      "outputs": [
        {
          "output_type": "stream",
          "text": [
            "Epoch 1/5\n",
            "399/399 [==============================] - 15s 37ms/step - loss: 0.0636 - acc: 0.6078 - val_loss: 0.0632 - val_acc: 0.6540\n",
            "Epoch 2/5\n",
            "399/399 [==============================] - 12s 31ms/step - loss: 0.0605 - acc: 0.6516 - val_loss: 0.0626 - val_acc: 0.6525\n",
            "Epoch 3/5\n",
            "399/399 [==============================] - 12s 31ms/step - loss: 0.0589 - acc: 0.6639 - val_loss: 0.0623 - val_acc: 0.6638\n",
            "Epoch 4/5\n",
            "399/399 [==============================] - 12s 31ms/step - loss: 0.0579 - acc: 0.6638 - val_loss: 0.0620 - val_acc: 0.6709\n",
            "Epoch 5/5\n",
            "399/399 [==============================] - 12s 31ms/step - loss: 0.0567 - acc: 0.6632 - val_loss: 0.0604 - val_acc: 0.6638\n"
          ],
          "name": "stdout"
        }
      ]
    },
    {
      "metadata": {
        "id": "yzQX11aDoUZ2",
        "colab_type": "code",
        "outputId": "81b8bc9d-1970-43fd-91de-4755eab5d242",
        "colab": {
          "base_uri": "https://localhost:8080/",
          "height": 281
        }
      },
      "cell_type": "code",
      "source": [
        "# let's see how badly we've overfit\n",
        "# (don't worry about it for this assignment)\n",
        "import matplotlib.pyplot as plt\n",
        "%matplotlib inline\n",
        "loss = history.history['loss']\n",
        "val_loss = history.history['val_loss']\n",
        "epochs = range(len(loss))\n",
        "plt.plot(epochs, loss, 'bo')\n",
        "plt.plot(epochs, val_loss, 'b')\n",
        "plt.legend(['train', 'validation'], loc='upper right')\n",
        "plt.title('Training and validation loss')\n",
        "plt.show()"
      ],
      "execution_count": 14,
      "outputs": [
        {
          "output_type": "display_data",
          "data": {
            "image/png": "[encoded data removed]",
            "text/plain": [
              "<matplotlib.figure.Figure at 0x7ff0e963a9b0>"
            ]
          },
          "metadata": {
            "tags": []
          }
        }
      ]
    },
    {
      "metadata": {
        "id": "_IYXreehqc7f",
        "colab_type": "code",
        "colab": {}
      },
      "cell_type": "code",
      "source": [
        "# plots a color image\n",
        "def plot_rgb(rgb):\n",
        "    data = [[rgb]]\n",
        "    plt.figure(figsize=(2,2))\n",
        "    plt.imshow(data, interpolation='nearest')\n",
        "    plt.axis('off')\n",
        "    plt.show()"
      ],
      "execution_count": 0,
      "outputs": []
    },
    {
      "metadata": {
        "id": "Fc5TsbxQqep1",
        "colab_type": "code",
        "colab": {}
      },
      "cell_type": "code",
      "source": [
        "def scale(n):\n",
        "    return int(n * 255)"
      ],
      "execution_count": 0,
      "outputs": []
    },
    {
      "metadata": {
        "id": "_e1E5PMTqhcd",
        "colab_type": "code",
        "colab": {}
      },
      "cell_type": "code",
      "source": [
        "def predict(name):\n",
        "    tokenized = t.texts_to_sequences([name])\n",
        "    padded = pad_sequences(tokenized, maxlen=maxlen)\n",
        "    padded = padded.astype('float32')\n",
        "    pred = model.predict(np.array(padded))[0]\n",
        "    # Check the shapes here if you run into trouble with the next \n",
        "    # method after adding your RNN\n",
        "    print(pred)\n",
        "    r, g, b = scale(pred[0]), scale(pred[1]), scale(pred[2])\n",
        "    print(name + ',', 'R,G,B:', r,g,b)\n",
        "    plot_rgb(pred)"
      ],
      "execution_count": 0,
      "outputs": []
    },
    {
      "metadata": {
        "id": "C2rwJDV9qjJN",
        "colab_type": "code",
        "outputId": "668ad556-14c9-4848-8d2e-a361fc2e5ed7",
        "colab": {
          "base_uri": "https://localhost:8080/",
          "height": 885
        }
      },
      "cell_type": "code",
      "source": [
        "# some \"test\" data\n",
        "predict(\"light green\")\n",
        "predict(\"green\")\n",
        "predict(\"dark green\")\n",
        "predict(\"burgundy\")\n",
        "predict(\"columbia blue\")"
      ],
      "execution_count": 18,
      "outputs": [
        {
          "output_type": "stream",
          "text": [
            "[0.51013917 0.6449792  0.37792304]\n",
            "light green, R,G,B: 130 164 96\n"
          ],
          "name": "stdout"
        },
        {
          "output_type": "display_data",
          "data": {
            "image/png": "[encoded data removed]",
            "text/plain": [
              "<matplotlib.figure.Figure at 0x7ff095348a90>"
            ]
          },
          "metadata": {
            "tags": []
          }
        },
        {
          "output_type": "stream",
          "text": [
            "[0.58261985 0.6213735  0.5069219 ]\n",
            "green, R,G,B: 148 158 129\n"
          ],
          "name": "stdout"
        },
        {
          "output_type": "display_data",
          "data": {
            "image/png": "[encoded data removed]",
            "text/plain": [
              "<matplotlib.figure.Figure at 0x7ff0932f4438>"
            ]
          },
          "metadata": {
            "tags": []
          }
        },
        {
          "output_type": "stream",
          "text": [
            "[0.5017475  0.6372033  0.41786808]\n",
            "dark green, R,G,B: 127 162 106\n"
          ],
          "name": "stdout"
        },
        {
          "output_type": "display_data",
          "data": {
            "image/png": "[encoded data removed]",
            "text/plain": [
              "<matplotlib.figure.Figure at 0x7ff09c068908>"
            ]
          },
          "metadata": {
            "tags": []
          }
        },
        {
          "output_type": "stream",
          "text": [
            "[0.7047797 0.6124957 0.5402826]\n",
            "burgundy, R,G,B: 179 156 137\n"
          ],
          "name": "stdout"
        },
        {
          "output_type": "display_data",
          "data": {
            "image/png": "[encoded data removed]",
            "text/plain": [
              "<matplotlib.figure.Figure at 0x7ff0d9e3f198>"
            ]
          },
          "metadata": {
            "tags": []
          }
        },
        {
          "output_type": "stream",
          "text": [
            "[0.32139033 0.5374769  0.7077899 ]\n",
            "columbia blue, R,G,B: 81 137 180\n"
          ],
          "name": "stdout"
        },
        {
          "output_type": "display_data",
          "data": {
            "image/png": "[encoded data removed]",
            "text/plain": [
              "<matplotlib.figure.Figure at 0x7ff095321b38>"
            ]
          },
          "metadata": {
            "tags": []
          }
        }
      ]
    },
    {
      "metadata": {
        "id": "nEBcGiqSqk-W",
        "colab_type": "code",
        "colab": {}
      },
      "cell_type": "code",
      "source": [
        ""
      ],
      "execution_count": 0,
      "outputs": []
    }
  ]
}