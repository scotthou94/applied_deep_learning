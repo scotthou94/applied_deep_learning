{
  "nbformat": 4,
  "nbformat_minor": 0,
  "metadata": {
    "colab": {
      "name": "sh3658_hw4_p3.ipynb",
      "version": "0.3.2",
      "provenance": [],
      "collapsed_sections": [],
      "include_colab_link": true
    },
    "kernelspec": {
      "name": "python3",
      "display_name": "Python 3"
    },
    "accelerator": "GPU"
  },
  "cells": [
    {
      "cell_type": "markdown",
      "metadata": {
        "id": "view-in-github",
        "colab_type": "text"
      },
      "source": [
        "<a href=\"https://colab.research.google.com/github/scotthou94/applied_deep_learning/blob/master/sh3658_hw4_p3.ipynb\" target=\"_parent\"><img src=\"https://colab.research.google.com/assets/colab-badge.svg\" alt=\"Open In Colab\"/></a>"
      ]
    },
    {
      "metadata": {
        "id": "CmO1WEDPp1xy",
        "colab_type": "code",
        "colab": {}
      },
      "cell_type": "code",
      "source": [
        "import tensorflow as tf\n",
        "tf.enable_eager_execution()\n",
        "\n",
        "import csv\n",
        "import matplotlib.pyplot as plt\n",
        "import numpy as np\n",
        "import os\n",
        "import random\n",
        "import string\n",
        "import time"
      ],
      "execution_count": 0,
      "outputs": []
    },
    {
      "metadata": {
        "id": "3sd_AEJspQJg",
        "colab_type": "code",
        "outputId": "81cccc9e-fd18-44a6-f832-0a909f73331b",
        "colab": {
          "base_uri": "https://localhost:8080/",
          "height": 185
        }
      },
      "cell_type": "code",
      "source": [
        "# Download the colors dataset\n",
        "if not os.path.exists('colors.csv'):\n",
        "  !curl -O 'https://raw.githubusercontent.com/random-forests/datasets/master/colors.csv'\n",
        "!head colors.csv"
      ],
      "execution_count": 2,
      "outputs": [
        {
          "output_type": "stream",
          "text": [
            "name,red,green,blue\n",
            "parakeet,174,182,87\n",
            "saddle brown,88,52,1\n",
            "cucumber crush,222,237,215\n",
            "pool blue,134,194,201\n",
            "distance,98,110,130\n",
            "light urple,179,111,246\n",
            "east side,172,145,206\n",
            "florida seashells,250,228,199\n",
            "paris,145,167,189\n"
          ],
          "name": "stdout"
        }
      ]
    },
    {
      "metadata": {
        "id": "mG0WnNZtmxul",
        "colab_type": "code",
        "outputId": "de620e2f-c6ef-4cd1-c1c6-2588c126b24c",
        "colab": {
          "base_uri": "https://localhost:8080/",
          "height": 50
        }
      },
      "cell_type": "code",
      "source": [
        "# Read the data\n",
        "colors_rgb = []\n",
        "csv_reader = csv.reader(open('colors.csv'), delimiter=',')\n",
        "next(csv_reader) # Remove the header\n",
        "for row in csv_reader:\n",
        "    name, r, g, b = row[0].lower().strip(), int(row[1]), int(row[2]), int(row[3])\n",
        "    colors_rgb.append((name, r, g, b))\n",
        "print(len(colors_rgb), 'colors downloaded')\n",
        "print('For example', colors_rgb[0])"
      ],
      "execution_count": 3,
      "outputs": [
        {
          "output_type": "stream",
          "text": [
            "14157 colors downloaded\n",
            "For example ('parakeet', 174, 182, 87)\n"
          ],
          "name": "stdout"
        }
      ]
    },
    {
      "metadata": {
        "id": "PdIWQdlBrZXA",
        "colab_type": "code",
        "outputId": "3403f1c4-760b-4c3c-c989-0ddeecaccc41",
        "colab": {
          "base_uri": "https://localhost:8080/",
          "height": 34
        }
      },
      "cell_type": "code",
      "source": [
        "# In this experiment, we will train a char-baed RNN to generate a line of text\n",
        "# that resembles this dataset (we'll treat each line as a string)\n",
        "sentences = []\n",
        "for row in colors_rgb:\n",
        "  line = ' '.join([str(part) for part in row])\n",
        "  sentences.append(line)\n",
        "print(sentences[0])"
      ],
      "execution_count": 4,
      "outputs": [
        {
          "output_type": "stream",
          "text": [
            "parakeet 174 182 87\n"
          ],
          "name": "stdout"
        }
      ]
    },
    {
      "metadata": {
        "id": "tS2vVgSDa4S8",
        "colab_type": "code",
        "colab": {
          "base_uri": "https://localhost:8080/",
          "height": 54
        },
        "outputId": "337baaf1-dd9b-4620-8a0f-dbf497ac3008"
      },
      "cell_type": "code",
      "source": [
        "print(sentences[:10])"
      ],
      "execution_count": 43,
      "outputs": [
        {
          "output_type": "stream",
          "text": [
            "['parakeet 174 182 87', 'saddle brown 88 52 1', 'cucumber crush 222 237 215', 'pool blue 134 194 201', 'distance 98 110 130', 'light urple 179 111 246', 'east side 172 145 206', 'florida seashells 250 228 199', 'paris 145 167 189', 'powder blush 247 215 215']\n"
          ],
          "name": "stdout"
        }
      ]
    },
    {
      "metadata": {
        "id": "Q_o2oIUNuyWZ",
        "colab_type": "code",
        "outputId": "a61bfdab-04d7-4f1a-8c7c-1ef69ce76d6b",
        "colab": {
          "base_uri": "https://localhost:8080/",
          "height": 50
        }
      },
      "cell_type": "code",
      "source": [
        "# vocabulary for our char-based RNN\n",
        "chars = set()\n",
        "for sentence in sentences:\n",
        "  for char in sentence:\n",
        "    chars.add(char)\n",
        "    \n",
        "# add a special char for padding\n",
        "chars.add('<pad>')\n",
        "\n",
        "vocab = sorted(set(chars))\n",
        "\n",
        "# Create a mapping from unique characters to indices\n",
        "char2idx = {u : i for i, u in enumerate(vocab)}\n",
        "idx2char = {i : u for i, u in enumerate(vocab)}\n",
        "\n",
        "# Vocab size\n",
        "vocab_size = len(vocab)\n",
        "print('vocab size:', vocab_size)\n",
        "print(vocab)"
      ],
      "execution_count": 5,
      "outputs": [
        {
          "output_type": "stream",
          "text": [
            "vocab size: 38\n",
            "[' ', '0', '1', '2', '3', '4', '5', '6', '7', '8', '9', '<pad>', 'a', 'b', 'c', 'd', 'e', 'f', 'g', 'h', 'i', 'j', 'k', 'l', 'm', 'n', 'o', 'p', 'q', 'r', 's', 't', 'u', 'v', 'w', 'x', 'y', 'z']\n"
          ],
          "name": "stdout"
        }
      ]
    },
    {
      "metadata": {
        "id": "p5sdKRJ6rp8I",
        "colab_type": "code",
        "outputId": "73478ec2-277b-49d9-9761-ba9392eecd02",
        "colab": {
          "base_uri": "https://localhost:8080/",
          "height": 34
        }
      },
      "cell_type": "code",
      "source": [
        "# vectorize the text\n",
        "text_int = []\n",
        "for sentence in sentences:\n",
        "  int_sentence = [] \n",
        "  for c in sentence:\n",
        "    int_sentence.append(char2idx[c])\n",
        "  text_int.append(int_sentence)\n",
        "print('Vectorized sentence', text_int[0])"
      ],
      "execution_count": 6,
      "outputs": [
        {
          "output_type": "stream",
          "text": [
            "Vectorized sentence [27, 12, 29, 12, 22, 16, 16, 31, 0, 2, 8, 5, 0, 2, 9, 3, 0, 9, 8]\n"
          ],
          "name": "stdout"
        }
      ]
    },
    {
      "metadata": {
        "id": "ToygxyaMbKJ0",
        "colab_type": "code",
        "colab": {
          "base_uri": "https://localhost:8080/",
          "height": 34
        },
        "outputId": "9abf0189-927e-4059-d7c1-4e2256a770d3"
      },
      "cell_type": "code",
      "source": [
        "print(''.join([idx2char[i] for i in text_int[0]]).replace('<pad>', ''))"
      ],
      "execution_count": 48,
      "outputs": [
        {
          "output_type": "stream",
          "text": [
            "parakeet 174 182 87\n"
          ],
          "name": "stdout"
        }
      ]
    },
    {
      "metadata": {
        "id": "0g6Do15As4yQ",
        "colab_type": "code",
        "outputId": "46c803c2-329c-4131-cdb9-d5d346174b6f",
        "colab": {
          "base_uri": "https://localhost:8080/",
          "height": 34
        }
      },
      "cell_type": "code",
      "source": [
        "# pad sentences to max_length\n",
        "max_length = 40\n",
        "for sentence in text_int:\n",
        "  while (len(sentence) < max_length):\n",
        "    sentence.append(char2idx['<pad>'])\n",
        "print('Padded sentences', text_int[0])"
      ],
      "execution_count": 7,
      "outputs": [
        {
          "output_type": "stream",
          "text": [
            "Padded sentences [27, 12, 29, 12, 22, 16, 16, 31, 0, 2, 8, 5, 0, 2, 9, 3, 0, 9, 8, 11, 11, 11, 11, 11, 11, 11, 11, 11, 11, 11, 11, 11, 11, 11, 11, 11, 11, 11, 11, 11]\n"
          ],
          "name": "stdout"
        }
      ]
    },
    {
      "metadata": {
        "id": "-y87WF_Fw1kJ",
        "colab_type": "code",
        "outputId": "ba459f3d-6d14-45a2-e9ac-678a07139594",
        "colab": {
          "base_uri": "https://localhost:8080/",
          "height": 34
        }
      },
      "cell_type": "code",
      "source": [
        "# truncate all sentences to max_length\n",
        "for i in range(len(text_int)):\n",
        "  sentence = text_int[i]\n",
        "  if len(sentence) > max_length:\n",
        "    text_int[i] = sentence[:max_length]\n",
        "print(\"Truncated sentences\", text_int[0])"
      ],
      "execution_count": 8,
      "outputs": [
        {
          "output_type": "stream",
          "text": [
            "Truncated sentences [27, 12, 29, 12, 22, 16, 16, 31, 0, 2, 8, 5, 0, 2, 9, 3, 0, 9, 8, 11, 11, 11, 11, 11, 11, 11, 11, 11, 11, 11, 11, 11, 11, 11, 11, 11, 11, 11, 11, 11]\n"
          ],
          "name": "stdout"
        }
      ]
    },
    {
      "metadata": {
        "id": "mwu3FgSpxNWT",
        "colab_type": "code",
        "outputId": "ffb54c57-4859-4327-fc3b-b59a4af970d3",
        "colab": {
          "base_uri": "https://localhost:8080/",
          "height": 67
        }
      },
      "cell_type": "code",
      "source": [
        "# Create training examples / targets\n",
        "input_text = []\n",
        "target_text = []\n",
        "\n",
        "for i in range(len(text_int)):\n",
        "  inps = text_int[i][:max_length-1]\n",
        "  targ = text_int[i][1:max_length]\n",
        "  input_text.append(inps)\n",
        "  target_text.append(targ)\n",
        "  \n",
        "print(\"First training example, target\")  \n",
        "print(input_text[0])\n",
        "print(target_text[0])"
      ],
      "execution_count": 9,
      "outputs": [
        {
          "output_type": "stream",
          "text": [
            "First training example, target\n",
            "[27, 12, 29, 12, 22, 16, 16, 31, 0, 2, 8, 5, 0, 2, 9, 3, 0, 9, 8, 11, 11, 11, 11, 11, 11, 11, 11, 11, 11, 11, 11, 11, 11, 11, 11, 11, 11, 11, 11]\n",
            "[12, 29, 12, 22, 16, 16, 31, 0, 2, 8, 5, 0, 2, 9, 3, 0, 9, 8, 11, 11, 11, 11, 11, 11, 11, 11, 11, 11, 11, 11, 11, 11, 11, 11, 11, 11, 11, 11, 11]\n"
          ],
          "name": "stdout"
        }
      ]
    },
    {
      "metadata": {
        "id": "-P80Iz5Cbu07",
        "colab_type": "code",
        "colab": {
          "base_uri": "https://localhost:8080/",
          "height": 50
        },
        "outputId": "91d68f5e-3837-474c-ac38-96c3be5a86cf"
      },
      "cell_type": "code",
      "source": [
        "print(''.join([idx2char[i] for i in text_int[0]]).replace('<pad>', ''))\n",
        "print(''.join([idx2char[i] for i in target_text[0]]).replace('<pad>', ''))"
      ],
      "execution_count": 50,
      "outputs": [
        {
          "output_type": "stream",
          "text": [
            "parakeet 174 182 87\n",
            "arakeet 174 182 87\n"
          ],
          "name": "stdout"
        }
      ]
    },
    {
      "metadata": {
        "id": "cjyeDrvGzl8E",
        "colab_type": "code",
        "colab": {}
      },
      "cell_type": "code",
      "source": [
        "BATCH_SIZE = 64\n",
        "BUFFER_SIZE = 10000\n",
        "\n",
        "dataset = tf.data.Dataset.from_tensor_slices((input_text, target_text))\n",
        "dataset = dataset.shuffle(BUFFER_SIZE).batch(BATCH_SIZE, drop_remainder=True)"
      ],
      "execution_count": 0,
      "outputs": []
    },
    {
      "metadata": {
        "id": "TT8ed7cu0w-z",
        "colab_type": "code",
        "colab": {}
      },
      "cell_type": "code",
      "source": [
        "class Model(tf.keras.Model):\n",
        "  def __init__(self, vocab_size, embedding_dim, units):\n",
        "    super(Model, self).__init__()\n",
        "    self.units = units\n",
        "\n",
        "    self.embedding = tf.keras.layers.Embedding(vocab_size, embedding_dim)\n",
        "    if tf.test.is_gpu_available():\n",
        "      self.gru = tf.keras.layers.CuDNNGRU(self.units, return_sequences=True, stateful=True)\n",
        "    else:\n",
        "      self.gru = tf.keras.layers.GRU(self.units, return_sequences=True)\n",
        "    self.fc = tf.keras.layers.Dense(vocab_size)\n",
        "        \n",
        "  def call(self, x):\n",
        "    embedding = self.embedding(x)\n",
        "    x = self.gru(embedding)\n",
        "    predictions = self.fc(x)\n",
        "    return predictions"
      ],
      "execution_count": 0,
      "outputs": []
    },
    {
      "metadata": {
        "id": "jA8Pssrh1NKE",
        "colab_type": "code",
        "colab": {}
      },
      "cell_type": "code",
      "source": [
        "# Length of the vocabulary in chars\n",
        "vocab_size = len(vocab)\n",
        "\n",
        "# The embedding dimension \n",
        "# Here, this is basically just a trick to avoid having \n",
        "# to one-hot encode the characters\n",
        "# I don't think it will add much otherwise\n",
        "# this would be more useful if we had a much larger vocabulary\n",
        "embedding_dim = 128\n",
        "\n",
        "# Number of RNN units\n",
        "units = 38\n",
        "\n",
        "model = Model(vocab_size, embedding_dim, units)"
      ],
      "execution_count": 0,
      "outputs": []
    },
    {
      "metadata": {
        "id": "FrSRbSQk1Rcz",
        "colab_type": "code",
        "colab": {}
      },
      "cell_type": "code",
      "source": [
        "optimizer = tf.train.AdamOptimizer()\n",
        "\n",
        "# Using sparse_softmax_cross_entropy so that we don't have to create one-hot vectors\n",
        "def loss_function(labels, logits):\n",
        "    return tf.losses.sparse_softmax_cross_entropy(labels=labels, logits=logits)"
      ],
      "execution_count": 0,
      "outputs": []
    },
    {
      "metadata": {
        "id": "-AILeTt71UXr",
        "colab_type": "code",
        "outputId": "be7dec9c-cd94-455c-94bd-e0fb7306e6ff",
        "colab": {
          "base_uri": "https://localhost:8080/",
          "height": 235
        }
      },
      "cell_type": "code",
      "source": [
        "model.build(tf.TensorShape([BATCH_SIZE, max_length]))\n",
        "model.summary()"
      ],
      "execution_count": 222,
      "outputs": [
        {
          "output_type": "stream",
          "text": [
            "_________________________________________________________________\n",
            "Layer (type)                 Output Shape              Param #   \n",
            "=================================================================\n",
            "embedding_7 (Embedding)      multiple                  4864      \n",
            "_________________________________________________________________\n",
            "cu_dnngru_7 (CuDNNGRU)       multiple                  19152     \n",
            "_________________________________________________________________\n",
            "dense_7 (Dense)              multiple                  1482      \n",
            "=================================================================\n",
            "Total params: 25,498\n",
            "Trainable params: 25,498\n",
            "Non-trainable params: 0\n",
            "_________________________________________________________________\n"
          ],
          "name": "stdout"
        }
      ]
    },
    {
      "metadata": {
        "id": "gjYtdulr8ukK",
        "colab_type": "code",
        "colab": {}
      },
      "cell_type": "code",
      "source": [
        "# Directory where the checkpoints will be saved\n",
        "checkpoint_dir = './training_checkpoints'\n",
        "# Name of the checkpoint files\n",
        "checkpoint_prefix = os.path.join(checkpoint_dir, \"ckpt\")\n",
        "# Checkpoint instance\n",
        "checkpoint = tf.train.Checkpoint(optimizer=optimizer, model=model)"
      ],
      "execution_count": 0,
      "outputs": []
    },
    {
      "metadata": {
        "id": "mtBS2vVXSbop",
        "colab_type": "code",
        "colab": {
          "base_uri": "https://localhost:8080/",
          "height": 34
        },
        "outputId": "2ee9d7c4-dd3a-4fef-a48f-4e56ca4efc44"
      },
      "cell_type": "code",
      "source": [
        "dataset"
      ],
      "execution_count": 56,
      "outputs": [
        {
          "output_type": "execute_result",
          "data": {
            "text/plain": [
              "<BatchDataset shapes: ((64, 39), (64, 39)), types: (tf.int32, tf.int32)>"
            ]
          },
          "metadata": {
            "tags": []
          },
          "execution_count": 56
        }
      ]
    },
    {
      "metadata": {
        "id": "U1WT6CGYUH2R",
        "colab_type": "code",
        "colab": {
          "base_uri": "https://localhost:8080/",
          "height": 34
        },
        "outputId": "d894c716-20c6-44d2-e522-bb0a93b532f3"
      },
      "cell_type": "code",
      "source": [
        "for input_example_batch, target_example_batch in dataset.take(1): \n",
        "  example_batch_predictions = model(input_example_batch)\n",
        "  print(example_batch_predictions.shape, \"# (batch_size, sequence_length, vocab_size)\")"
      ],
      "execution_count": 223,
      "outputs": [
        {
          "output_type": "stream",
          "text": [
            "(64, 39, 38) # (batch_size, sequence_length, vocab_size)\n"
          ],
          "name": "stdout"
        }
      ]
    },
    {
      "metadata": {
        "id": "GkLMi8GI1c9b",
        "colab_type": "code",
        "outputId": "b946cbff-c87e-4b71-deea-4988c540b7e9",
        "colab": {
          "base_uri": "https://localhost:8080/",
          "height": 3041
        }
      },
      "cell_type": "code",
      "source": [
        "EPOCHS = 30\n",
        "\n",
        "for epoch in range(EPOCHS):\n",
        "    start = time.time()\n",
        "    \n",
        "    # initializing the hidden state at the start of every epoch\n",
        "    # initally hidden is None\n",
        "    hidden = model.reset_states()\n",
        "    \n",
        "    for (batch, (input_seq, target_seq)) in enumerate(dataset):\n",
        "          with tf.GradientTape() as tape:\n",
        "              predictions = model(input_seq)\n",
        "              loss = loss_function(target_seq, predictions)\n",
        "              \n",
        "          grads = tape.gradient(loss, model.variables)\n",
        "          optimizer.apply_gradients(zip(grads, model.variables))\n",
        "\n",
        "          if batch % 100 == 0:\n",
        "              print ('Epoch {} Batch {} Loss {:.4f}'.format(epoch+1,\n",
        "                                                            batch,\n",
        "                                                            loss))\n",
        "\n",
        "    print ('Epoch {} Loss {:.4f}'.format(epoch+1, loss))\n",
        "    print ('Time for epoch {} sec\\n'.format(time.time() - start))\n",
        "    checkpoint.save(file_prefix = checkpoint_prefix)"
      ],
      "execution_count": 225,
      "outputs": [
        {
          "output_type": "stream",
          "text": [
            "Epoch 1 Batch 0 Loss 3.6358\n",
            "Epoch 1 Batch 100 Loss 1.5828\n",
            "Epoch 1 Batch 200 Loss 1.3055\n",
            "Epoch 1 Loss 1.2961\n",
            "Time for epoch 6.6653382778167725 sec\n",
            "\n",
            "Epoch 2 Batch 0 Loss 1.2968\n",
            "Epoch 2 Batch 100 Loss 1.1676\n",
            "Epoch 2 Batch 200 Loss 1.1032\n",
            "Epoch 2 Loss 1.1133\n",
            "Time for epoch 6.239501714706421 sec\n",
            "\n",
            "Epoch 3 Batch 0 Loss 1.1667\n",
            "Epoch 3 Batch 100 Loss 1.1006\n",
            "Epoch 3 Batch 200 Loss 1.1153\n",
            "Epoch 3 Loss 1.1234\n",
            "Time for epoch 6.860024452209473 sec\n",
            "\n",
            "Epoch 4 Batch 0 Loss 1.1350\n",
            "Epoch 4 Batch 100 Loss 1.1003\n",
            "Epoch 4 Batch 200 Loss 1.0245\n",
            "Epoch 4 Loss 1.0905\n",
            "Time for epoch 6.363661527633667 sec\n",
            "\n",
            "Epoch 5 Batch 0 Loss 1.1670\n",
            "Epoch 5 Batch 100 Loss 1.0744\n",
            "Epoch 5 Batch 200 Loss 1.0630\n",
            "Epoch 5 Loss 1.0345\n",
            "Time for epoch 6.275617837905884 sec\n",
            "\n",
            "Epoch 6 Batch 0 Loss 1.0953\n",
            "Epoch 6 Batch 100 Loss 1.0254\n",
            "Epoch 6 Batch 200 Loss 1.0371\n",
            "Epoch 6 Loss 1.0535\n",
            "Time for epoch 6.408428430557251 sec\n",
            "\n",
            "Epoch 7 Batch 0 Loss 1.0485\n",
            "Epoch 7 Batch 100 Loss 1.0264\n",
            "Epoch 7 Batch 200 Loss 1.0052\n",
            "Epoch 7 Loss 1.0051\n",
            "Time for epoch 6.5988850593566895 sec\n",
            "\n",
            "Epoch 8 Batch 0 Loss 1.0544\n",
            "Epoch 8 Batch 100 Loss 1.0038\n",
            "Epoch 8 Batch 200 Loss 0.9684\n",
            "Epoch 8 Loss 0.9875\n",
            "Time for epoch 6.39067268371582 sec\n",
            "\n",
            "Epoch 9 Batch 0 Loss 1.0373\n",
            "Epoch 9 Batch 100 Loss 0.9178\n",
            "Epoch 9 Batch 200 Loss 0.9928\n",
            "Epoch 9 Loss 0.9740\n",
            "Time for epoch 6.323266506195068 sec\n",
            "\n",
            "Epoch 10 Batch 0 Loss 1.0009\n",
            "Epoch 10 Batch 100 Loss 0.9927\n",
            "Epoch 10 Batch 200 Loss 1.0028\n",
            "Epoch 10 Loss 0.9559\n",
            "Time for epoch 6.57928204536438 sec\n",
            "\n",
            "Epoch 11 Batch 0 Loss 0.9790\n",
            "Epoch 11 Batch 100 Loss 1.0034\n",
            "Epoch 11 Batch 200 Loss 1.0209\n",
            "Epoch 11 Loss 0.9696\n",
            "Time for epoch 6.32954478263855 sec\n",
            "\n",
            "Epoch 12 Batch 0 Loss 0.9968\n",
            "Epoch 12 Batch 100 Loss 0.9414\n",
            "Epoch 12 Batch 200 Loss 0.9788\n",
            "Epoch 12 Loss 0.9807\n",
            "Time for epoch 6.360761880874634 sec\n",
            "\n",
            "Epoch 13 Batch 0 Loss 0.9419\n",
            "Epoch 13 Batch 100 Loss 0.9581\n",
            "Epoch 13 Batch 200 Loss 0.9472\n",
            "Epoch 13 Loss 0.9799\n",
            "Time for epoch 6.534865856170654 sec\n",
            "\n",
            "Epoch 14 Batch 0 Loss 0.9973\n",
            "Epoch 14 Batch 100 Loss 0.9376\n",
            "Epoch 14 Batch 200 Loss 0.9787\n",
            "Epoch 14 Loss 0.9373\n",
            "Time for epoch 6.500250816345215 sec\n",
            "\n",
            "Epoch 15 Batch 0 Loss 1.0189\n",
            "Epoch 15 Batch 100 Loss 0.9823\n",
            "Epoch 15 Batch 200 Loss 0.9313\n",
            "Epoch 15 Loss 0.9544\n",
            "Time for epoch 7.0914857387542725 sec\n",
            "\n",
            "Epoch 16 Batch 0 Loss 1.0194\n",
            "Epoch 16 Batch 100 Loss 0.9431\n",
            "Epoch 16 Batch 200 Loss 1.0003\n",
            "Epoch 16 Loss 0.9154\n",
            "Time for epoch 6.243173837661743 sec\n",
            "\n",
            "Epoch 17 Batch 0 Loss 0.9392\n",
            "Epoch 17 Batch 100 Loss 0.9199\n",
            "Epoch 17 Batch 200 Loss 0.9756\n",
            "Epoch 17 Loss 0.9550\n",
            "Time for epoch 6.2387237548828125 sec\n",
            "\n",
            "Epoch 18 Batch 0 Loss 0.9910\n",
            "Epoch 18 Batch 100 Loss 0.9626\n",
            "Epoch 18 Batch 200 Loss 0.8815\n",
            "Epoch 18 Loss 0.9091\n",
            "Time for epoch 6.323999643325806 sec\n",
            "\n",
            "Epoch 19 Batch 0 Loss 0.9768\n",
            "Epoch 19 Batch 100 Loss 0.9613\n",
            "Epoch 19 Batch 200 Loss 0.9434\n",
            "Epoch 19 Loss 0.9452\n",
            "Time for epoch 6.377756595611572 sec\n",
            "\n",
            "Epoch 20 Batch 0 Loss 1.0457\n",
            "Epoch 20 Batch 100 Loss 0.9152\n",
            "Epoch 20 Batch 200 Loss 0.9043\n",
            "Epoch 20 Loss 0.9386\n",
            "Time for epoch 6.084272861480713 sec\n",
            "\n",
            "Epoch 21 Batch 0 Loss 0.9615\n",
            "Epoch 21 Batch 100 Loss 0.9568\n",
            "Epoch 21 Batch 200 Loss 0.8801\n",
            "Epoch 21 Loss 0.9097\n",
            "Time for epoch 6.152493000030518 sec\n",
            "\n",
            "Epoch 22 Batch 0 Loss 0.9781\n",
            "Epoch 22 Batch 100 Loss 0.8893\n",
            "Epoch 22 Batch 200 Loss 0.9197\n",
            "Epoch 22 Loss 0.8884\n",
            "Time for epoch 6.220669746398926 sec\n",
            "\n",
            "Epoch 23 Batch 0 Loss 0.9756\n",
            "Epoch 23 Batch 100 Loss 0.9524\n",
            "Epoch 23 Batch 200 Loss 0.9494\n",
            "Epoch 23 Loss 0.9351\n",
            "Time for epoch 6.158358812332153 sec\n",
            "\n",
            "Epoch 24 Batch 0 Loss 0.9927\n",
            "Epoch 24 Batch 100 Loss 0.9266\n",
            "Epoch 24 Batch 200 Loss 0.9186\n",
            "Epoch 24 Loss 0.9045\n",
            "Time for epoch 6.176089525222778 sec\n",
            "\n",
            "Epoch 25 Batch 0 Loss 0.9851\n",
            "Epoch 25 Batch 100 Loss 0.9346\n",
            "Epoch 25 Batch 200 Loss 0.9329\n",
            "Epoch 25 Loss 0.9217\n",
            "Time for epoch 6.316893577575684 sec\n",
            "\n",
            "Epoch 26 Batch 0 Loss 0.9748\n",
            "Epoch 26 Batch 100 Loss 0.9646\n",
            "Epoch 26 Batch 200 Loss 0.9180\n",
            "Epoch 26 Loss 0.9650\n",
            "Time for epoch 6.273961305618286 sec\n",
            "\n",
            "Epoch 27 Batch 0 Loss 0.9562\n",
            "Epoch 27 Batch 100 Loss 0.9273\n",
            "Epoch 27 Batch 200 Loss 0.9122\n",
            "Epoch 27 Loss 0.9426\n",
            "Time for epoch 6.274072170257568 sec\n",
            "\n",
            "Epoch 28 Batch 0 Loss 0.9321\n",
            "Epoch 28 Batch 100 Loss 0.9380\n",
            "Epoch 28 Batch 200 Loss 0.9395\n",
            "Epoch 28 Loss 0.9275\n",
            "Time for epoch 6.327420234680176 sec\n",
            "\n",
            "Epoch 29 Batch 0 Loss 0.9431\n",
            "Epoch 29 Batch 100 Loss 0.9454\n",
            "Epoch 29 Batch 200 Loss 0.9018\n",
            "Epoch 29 Loss 0.9287\n",
            "Time for epoch 6.346109628677368 sec\n",
            "\n",
            "Epoch 30 Batch 0 Loss 0.9877\n",
            "Epoch 30 Batch 100 Loss 0.9186\n",
            "Epoch 30 Batch 200 Loss 0.9008\n",
            "Epoch 30 Loss 0.8987\n",
            "Time for epoch 6.341853618621826 sec\n",
            "\n"
          ],
          "name": "stdout"
        }
      ]
    },
    {
      "metadata": {
        "id": "0U_cmqGP8dwg",
        "colab_type": "code",
        "outputId": "fd494d5c-c585-4e69-9d96-3c214cf27715",
        "colab": {
          "base_uri": "https://localhost:8080/",
          "height": 538
        }
      },
      "cell_type": "code",
      "source": [
        "!ls {checkpoint_dir}"
      ],
      "execution_count": 226,
      "outputs": [
        {
          "output_type": "stream",
          "text": [
            "checkpoint\t\t     ckpt-61.data-00000-of-00001\n",
            "ckpt-46.data-00000-of-00001  ckpt-61.index\n",
            "ckpt-46.index\t\t     ckpt-62.data-00000-of-00001\n",
            "ckpt-47.data-00000-of-00001  ckpt-62.index\n",
            "ckpt-47.index\t\t     ckpt-63.data-00000-of-00001\n",
            "ckpt-48.data-00000-of-00001  ckpt-63.index\n",
            "ckpt-48.index\t\t     ckpt-64.data-00000-of-00001\n",
            "ckpt-49.data-00000-of-00001  ckpt-64.index\n",
            "ckpt-49.index\t\t     ckpt-65.data-00000-of-00001\n",
            "ckpt-50.data-00000-of-00001  ckpt-65.index\n",
            "ckpt-50.index\t\t     ckpt-66.data-00000-of-00001\n",
            "ckpt-51.data-00000-of-00001  ckpt-66.index\n",
            "ckpt-51.index\t\t     ckpt-67.data-00000-of-00001\n",
            "ckpt-52.data-00000-of-00001  ckpt-67.index\n",
            "ckpt-52.index\t\t     ckpt-68.data-00000-of-00001\n",
            "ckpt-53.data-00000-of-00001  ckpt-68.index\n",
            "ckpt-53.index\t\t     ckpt-69.data-00000-of-00001\n",
            "ckpt-54.data-00000-of-00001  ckpt-69.index\n",
            "ckpt-54.index\t\t     ckpt-70.data-00000-of-00001\n",
            "ckpt-55.data-00000-of-00001  ckpt-70.index\n",
            "ckpt-55.index\t\t     ckpt-71.data-00000-of-00001\n",
            "ckpt-56.data-00000-of-00001  ckpt-71.index\n",
            "ckpt-56.index\t\t     ckpt-72.data-00000-of-00001\n",
            "ckpt-57.data-00000-of-00001  ckpt-72.index\n",
            "ckpt-57.index\t\t     ckpt-73.data-00000-of-00001\n",
            "ckpt-58.data-00000-of-00001  ckpt-73.index\n",
            "ckpt-58.index\t\t     ckpt-74.data-00000-of-00001\n",
            "ckpt-59.data-00000-of-00001  ckpt-74.index\n",
            "ckpt-59.index\t\t     ckpt-75.data-00000-of-00001\n",
            "ckpt-60.data-00000-of-00001  ckpt-75.index\n",
            "ckpt-60.index\n"
          ],
          "name": "stdout"
        }
      ]
    },
    {
      "metadata": {
        "id": "0K3VLTVT81rt",
        "colab_type": "code",
        "colab": {}
      },
      "cell_type": "code",
      "source": [
        "# This is a hack to let us use the model with a different \n",
        "# batch size later\n",
        "model = Model(vocab_size, embedding_dim, units)\n",
        "checkpoint = tf.train.Checkpoint(model=model)\n",
        "checkpoint.restore(tf.train.latest_checkpoint(checkpoint_dir))\n",
        "model.build(tf.TensorShape([1, None]))"
      ],
      "execution_count": 0,
      "outputs": []
    },
    {
      "metadata": {
        "id": "Le_MRIFI1tRL",
        "colab_type": "code",
        "colab": {}
      },
      "cell_type": "code",
      "source": [
        "def evaluate(model, num_generate=max_length, starting_string=''):\n",
        "  # Evaluation step (generating text using the learned model)\n",
        "\n",
        "  # You can change the start string to experiment\n",
        "  if starting_string == '':\n",
        "    choice = np.random.choice([i for i in range(12, vocab_size)])\n",
        "    starting_string = idx2char[choice]\n",
        "\n",
        "  # Converting our start string to numbers (vectorizing) \n",
        "  input_eval = [char2idx[s] for s in start_string]\n",
        "  input_eval = tf.expand_dims(input_eval, 0)\n",
        "\n",
        "  # Empty string to store our results\n",
        "  text_generated = []\n",
        "\n",
        "  # Low temperatures results in more predictable text.\n",
        "  # Higher temperatures results in more surprising text.\n",
        "  # Experiment to find the best setting.\n",
        "  temperature = 1.2\n",
        "\n",
        "  # Here batch size == 1\n",
        "  model.reset_states()\n",
        "  for i in range(num_generate):\n",
        "      predictions = model(input_eval)\n",
        "      # remove the batch dimension\n",
        "      predictions = tf.squeeze(predictions, 0)\n",
        "\n",
        "      # using a multinomial distribution to predict the word returned by the model\n",
        "      predictions = predictions / temperature\n",
        "      predicted_id = tf.random.multinomial(predictions, num_samples=1)[-1,0].numpy()\n",
        "\n",
        "      # We pass the predicted word as the next input to the model\n",
        "      # along with the previous hidden state\n",
        "      input_eval = tf.expand_dims([predicted_id], 0)\n",
        "\n",
        "      text_generated.append(idx2char[predicted_id])\n",
        "\n",
        "  generated_color = starting_string + ''.join(text_generated).replace('<pad>', '')\n",
        "  print('Generated text: ', generated_color)\n",
        "\n",
        "  try:\n",
        "    parts = generated_color.split()\n",
        "    r = float(parts[-3])\n",
        "    g = float(parts[-2])\n",
        "    b = float(parts[-1])\n",
        "    plt.figure(figsize=(3,3))\n",
        "    plt.clf()\n",
        "    _ = plt.imshow([[(r, g, b)]])\n",
        "    _ = plt.axis('off')\n",
        "    _ = plt.title(generated_color, fontsize=18)\n",
        "  except:\n",
        "\n",
        "    print('unable to parse color')"
      ],
      "execution_count": 0,
      "outputs": []
    },
    {
      "metadata": {
        "id": "2LSxcAKVBNLu",
        "colab_type": "code",
        "colab": {
          "base_uri": "https://localhost:8080/",
          "height": 1165
        },
        "outputId": "cf03c2e6-b698-4e4d-dce0-1d5853d79692"
      },
      "cell_type": "code",
      "source": [
        "for i in range(5):\n",
        "  evaluate(model, num_generate=30)"
      ],
      "execution_count": 230,
      "outputs": [
        {
          "output_type": "stream",
          "text": [
            "Generated text:  layioba 228 219 239\n",
            "Generated text:  uander rossse 40 82 75\n",
            "Generated text:  gamy dark migh 238 116 66\n",
            "Generated text:  wridowoon colnice 88 140 164\n",
            "Generated text:  moingoonthate dung 234 104 68\n"
          ],
          "name": "stdout"
        },
        {
          "output_type": "display_data",
          "data": {
            "image/png": "[encoded data removed]",
            "text/plain": [
              "<matplotlib.figure.Figure at 0x7efe5cbd4e48>"
            ]
          },
          "metadata": {
            "tags": []
          }
        },
        {
          "output_type": "display_data",
          "data": {
            "image/png": "[encoded data removed]",
            "text/plain": [
              "<matplotlib.figure.Figure at 0x7efe5cb6f400>"
            ]
          },
          "metadata": {
            "tags": []
          }
        },
        {
          "output_type": "display_data",
          "data": {
            "image/png": "[encoded data removed]",
            "text/plain": [
              "<matplotlib.figure.Figure at 0x7efe5cb28e48>"
            ]
          },
          "metadata": {
            "tags": []
          }
        },
        {
          "output_type": "display_data",
          "data": {
            "image/png": "[encoded data removed]",
            "text/plain": [
              "<matplotlib.figure.Figure at 0x7efe5cb28e10>"
            ]
          },
          "metadata": {
            "tags": []
          }
        },
        {
          "output_type": "display_data",
          "data": {
            "image/png": "[encoded data removed]",
            "text/plain": [
              "<matplotlib.figure.Figure at 0x7efe5ca93da0>"
            ]
          },
          "metadata": {
            "tags": []
          }
        }
      ]
    },
    {
      "metadata": {
        "id": "5jzPdVCCrka2",
        "colab_type": "code",
        "colab": {}
      },
      "cell_type": "code",
      "source": [
        ""
      ],
      "execution_count": 0,
      "outputs": []
    }
  ]
}